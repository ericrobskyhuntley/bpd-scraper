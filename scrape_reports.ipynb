{
 "cells": [
  {
   "cell_type": "code",
   "execution_count": null,
   "metadata": {},
   "outputs": [],
   "source": [
    "import pdfquery\n",
    "import pandas as pd\n",
    "import os\n",
    "from glob import glob\n",
    "from dotenv import load_dotenv, find_dotenv\n",
    "from opencage.geocoder import OpenCageGeocode\n",
    "load_dotenv()\n",
    "KEY = os.getenv('OPENCAGE')\n",
    "geocoder = OpenCageGeocode(key)"
   ]
  },
  {
   "cell_type": "code",
   "execution_count": null,
   "metadata": {},
   "outputs": [],
   "source": [
    "def gc(address):\n",
    "    if len(address) == 0: \n",
    "        return None, None\n",
    "    address = address.strip()\n",
    "    address = address + \", Boston, MA\"\n",
    "    result = geocoder.geocode(address, countrycode=\"us\")\n",
    "    if result and len(result):\n",
    "        print(f\"Geocoding {address}.\")\n",
    "        lat = result[0]['geometry']['lat']\n",
    "        lng = result[0]['geometry']['lng']\n",
    "    else:\n",
    "        lat = None\n",
    "        lng = None\n",
    "    return (lat, lng)\n",
    "\n",
    "def get_category(pdf, cell_text, h=20, w=220):\n",
    "    label = pdf.pq(f'LTTextLineHorizontal:contains(\"{cell_text}\")')\n",
    "    instances = []\n",
    "    for instance in label:\n",
    "        p = next(instance.iterancestors('LTPage')).layout.pageid - 1\n",
    "        l = instance.layout.x0\n",
    "        b = instance.layout.y0\n",
    "        if b < 72:\n",
    "            p = p + 1\n",
    "            b = 774\n",
    "        result = pdf.extract([\n",
    "            ('with_parent', f'LTPage[page_index=\"{p}\"]'),\n",
    "            ('with_formatter', 'text'),\n",
    "            ('instance', 'LTTextLineHorizontal:in_bbox(\"%s, %s, %s, %s\")' % (l, b - h, l + w, b))\n",
    "        ])\n",
    "        instances.append(result['instance'].title())\n",
    "    return instances\n",
    "\n",
    "def scrape_pdf(path_list):\n",
    "    officers = []\n",
    "    occurence_times = []\n",
    "    report_times = []\n",
    "    complaints = []\n",
    "    locations = []\n",
    "    natures = []\n",
    "    lat = []\n",
    "    lng = []\n",
    "    for path in path_list:\n",
    "        print(f\"Scraping {path}...\")\n",
    "        pdf = pdfquery.PDFQuery(path)\n",
    "        pdf.load()\n",
    "        officers.extend(get_category(pdf, cell_text=\"Officer\", h=20, w=220))\n",
    "        occurrence_times.extend(get_category(pdf, cell_text=\"Occurrence Date\", h=20, w=136))\n",
    "        report_times.extend(get_category(pdf, cell_text=\"Report Date\", h=20, w=104))\n",
    "        complaints.extend(get_category(pdf, cell_text=\"Complaint #\", h=20, w=84))\n",
    "        locations.extend(get_category(pdf, cell_text=\"Location of\", h=20, w=520))\n",
    "        natures.extend(get_category(pdf, cell_text=\"Nature of\", h=20, w=520))\n",
    "    for loc in locations:\n",
    "        lat.append(gc(loc)[0])\n",
    "        lng.append(gc(loc)[1])\n",
    "    df = pd.DataFrame(list(zip(officers, occurrence_times, report_times, complaints, locations, natures, lat, lng)), \n",
    "                       columns =['officer', 'occ_time', 'rep_time', 'complaint_no', 'location', 'nature', 'lat', 'lng'])\n",
    "    return(df)"
   ]
  },
  {
   "cell_type": "code",
   "execution_count": null,
   "metadata": {},
   "outputs": [],
   "source": [
    "file_list = glob(os.path.join('./data/pdfs/','*.pdf'))\n",
    "df = scrape_pdf(file_list)\n",
    "df.to_csv('./outputs/police_journal.csv', index_label='id')"
   ]
  }
 ],
 "metadata": {
  "kernelspec": {
   "display_name": "Python 3",
   "language": "python",
   "name": "python3"
  },
  "language_info": {
   "codemirror_mode": {
    "name": "ipython",
    "version": 3
   },
   "file_extension": ".py",
   "mimetype": "text/x-python",
   "name": "python",
   "nbconvert_exporter": "python",
   "pygments_lexer": "ipython3",
   "version": "3.8.2"
  }
 },
 "nbformat": 4,
 "nbformat_minor": 4
}
